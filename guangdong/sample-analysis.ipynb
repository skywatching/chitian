{
 "cells": [
  {
   "cell_type": "code",
   "execution_count": 1,
   "metadata": {},
   "outputs": [],
   "source": [
    "import glob\n",
    "import os\n",
    "import sys"
   ]
  },
  {
   "cell_type": "code",
   "execution_count": 2,
   "metadata": {},
   "outputs": [],
   "source": [
    "train_round1_train1 = glob.glob(os.path.join(\"./data/guangdong_round1_train1_20180903/\",\"*.jpg\"))\n",
    "train_round1_train2_norm= glob.glob(os.path.join(\"./data/guangdong_round1_train2_20180916/\",\"*/*.jpg\"))\n",
    "train_round1_train2_defect = glob.glob(os.path.join(\"./data/guangdong_round1_train2_20180916/\",\"*/*/*.jpg\"))\n",
    "train_round1_train2_other = glob.glob(os.path.join(\"./data/guangdong_round1_train2_20180916/\",\"*/*/*/*.jpg\"))"
   ]
  },
  {
   "cell_type": "code",
   "execution_count": 3,
   "metadata": {},
   "outputs": [],
   "source": [
    "train_all_files = []\n",
    "train_all_files.extend(train_round1_train1)\n",
    "train_all_files.extend(train_round1_train2_norm)\n",
    "train_all_files.extend(train_round1_train2_defect)\n",
    "train_all_files.extend(train_round1_train2_other)"
   ]
  },
  {
   "cell_type": "code",
   "execution_count": 4,
   "metadata": {},
   "outputs": [
    {
     "name": "stdout",
     "output_type": "stream",
     "text": [
      "Total: 2386\n"
     ]
    }
   ],
   "source": [
    "print(\"Total: {}\".format(len(train_all_files)))"
   ]
  },
  {
   "cell_type": "code",
   "execution_count": 5,
   "metadata": {},
   "outputs": [],
   "source": [
    "g_name2eng = {\n",
    "    \"正常\": \"norm\",\n",
    "    \"不导电\": \"defect1\",\n",
    "    \"擦花\": \"defect2\",\n",
    "    \"横条压凹\": \"defect3\",\n",
    "    \"桔皮\": \"defect4\",\n",
    "    \"漏底\": \"defect5\",\n",
    "    \"碰伤\": \"defect6\",\n",
    "    \"起坑\": \"defect7\",\n",
    "    \"凸粉\": \"defect8\",\n",
    "    \"涂层开裂\": \"defect9\",\n",
    "    \"脏点\": \"defect10\",\n",
    "    \"其他\": \"defect11\",\n",
    "}"
   ]
  },
  {
   "cell_type": "code",
   "execution_count": 6,
   "metadata": {},
   "outputs": [],
   "source": [
    "others = ['碰凹', '气泡', '喷涂碰伤', '打磨印', '纹粗', '划伤', '油印', '打白点', '杂色', '粘接', '变形', '返底', '油渣', '驳口', '拖烂', '火山口', '铝屑']"
   ]
  },
  {
   "cell_type": "code",
   "execution_count": 7,
   "metadata": {},
   "outputs": [],
   "source": [
    "label2files = {}\n",
    "\n",
    "for f in train_all_files:\n",
    "    basename = os.path.basename(f)\n",
    "    label = basename.split(\"2018\")[0]\n",
    "    if label in others:\n",
    "        label = \"其他\"\n",
    "    if label not in label2files.keys():\n",
    "        label2files[label] = []\n",
    "    label2files[label].append(f)"
   ]
  },
  {
   "cell_type": "code",
   "execution_count": 8,
   "metadata": {},
   "outputs": [
    {
     "name": "stdout",
     "output_type": "stream",
     "text": [
      "Labels:['漏底', '凸粉', '其他', '擦花', '正常', '桔皮', '脏点', '不导电', '起坑', '涂层开裂', '碰伤', '横条压凹']\n"
     ]
    }
   ],
   "source": [
    "print(\"Labels:{}\".format(list(label2files.keys())))"
   ]
  },
  {
   "cell_type": "code",
   "execution_count": 9,
   "metadata": {},
   "outputs": [],
   "source": [
    "labels = list(label2files.keys())"
   ]
  },
  {
   "cell_type": "code",
   "execution_count": 10,
   "metadata": {},
   "outputs": [],
   "source": [
    "values = [len(label2files[l]) for l in labels ]"
   ]
  },
  {
   "cell_type": "code",
   "execution_count": 11,
   "metadata": {},
   "outputs": [],
   "source": [
    "import matplotlib.pyplot as plt\n",
    "import matplotlib"
   ]
  },
  {
   "cell_type": "code",
   "execution_count": 12,
   "metadata": {},
   "outputs": [],
   "source": [
    "# 设置matplotlib正常显示中文和负号\n",
    "matplotlib.rcParams['font.sans-serif']=['SimHei']   # 用黑体显示中文\n",
    "matplotlib.rcParams['axes.unicode_minus']=False     # 正常显示负号"
   ]
  },
  {
   "cell_type": "code",
   "execution_count": 13,
   "metadata": {},
   "outputs": [
    {
     "data": {
      "image/png": "[encoded data removed]",
      "text/plain": [
       "<Figure size 1152x648 with 1 Axes>"
      ]
     },
     "metadata": {},
     "output_type": "display_data"
    }
   ],
   "source": [
    "plt.figure(figsize=(16,9))\n",
    "plt.bar(range(len(labels)), values)\n",
    "plt.xticks(range(len(labels)), labels)\n",
    "\n",
    "#plt.barh(range(len(labels)), values, height=1, color='steelblue', alpha=0.8)      # 从下往上画\n",
    "#plt.yticks(range(len(labels)), labels)\n",
    "#plt.xlim(30,47)\n",
    "plt.xlabel(\"labels\")\n",
    "plt.title(\"samples numbers\")\n",
    "for x, y in enumerate(values):\n",
    "    plt.text(x - 0.2 , y + 10, '%s' % y)\n",
    "plt.show()\n"
   ]
  },
  {
   "cell_type": "code",
   "execution_count": 14,
   "metadata": {},
   "outputs": [
    {
     "name": "stdout",
     "output_type": "stream",
     "text": [
      "/home/zhanggw/anaconda3/lib/python3.6/site-packages/matplotlib/mpl-data/matplotlibrc\n"
     ]
    }
   ],
   "source": [
    "print(\"{}\".format(matplotlib.matplotlib_fname()))"
   ]
  },
  {
   "cell_type": "code",
   "execution_count": 21,
   "metadata": {},
   "outputs": [
    {
     "name": "stdout",
     "output_type": "stream",
     "text": [
      "num_valid:117\n",
      "num_valid:32\n",
      "num_valid:48\n",
      "num_valid:50\n",
      "num_valid:306\n",
      "num_valid:27\n",
      "num_valid:63\n",
      "num_valid:12\n",
      "num_valid:17\n",
      "num_valid:11\n",
      "num_valid:24\n",
      "num_valid:15\n"
     ]
    }
   ],
   "source": [
    "import numpy as np\n",
    "\n",
    "samples_train = []\n",
    "samples_valid = []\n",
    "\n",
    "valid_factor = 0.3\n",
    "train_factor = 400\n",
    "for v in label2files.values():\n",
    "    num = len(v)\n",
    "    num_valid = int(np.ceil(num * valid_factor))\n",
    "    v = np.random.permutation(v)\n",
    "    print(\"num_valid:{}\".format(num_valid))\n",
    "    samples_valid.extend(v[:num_valid])\n",
    "    \n",
    "    samples_left = v[num_valid:]\n",
    "    samples_train.extend(samples_left)\n",
    "    if len(samples_left) < train_factor:\n",
    "        samples_train.extend(np.random.choice(samples_left, train_factor - len(samples_left)))"
   ]
  },
  {
   "cell_type": "code",
   "execution_count": 31,
   "metadata": {},
   "outputs": [
    {
     "name": "stdout",
     "output_type": "stream",
     "text": [
      "5112\n",
      "722\n"
     ]
    }
   ],
   "source": [
    "print(len(samples_train))\n",
    "print(len(samples_valid))\n",
    "#print(samples_valid)"
   ]
  },
  {
   "cell_type": "code",
   "execution_count": 30,
   "metadata": {},
   "outputs": [],
   "source": [
    "import json\n",
    "jsondata = {\"data\":{\"train\":samples_train, \"valid\":samples_valid}}\n",
    "json_file = open(\"samples.json\", 'w', encoding='utf-8')\n",
    "json.dump(jsondata, json_file, indent=4, ensure_ascii=False)"
   ]
  },
  {
   "cell_type": "code",
   "execution_count": 17,
   "metadata": {},
   "outputs": [
    {
     "name": "stdout",
     "output_type": "stream",
     "text": [
      "[5 0 7 0 4 6 6 5 1 6]\n"
     ]
    }
   ],
   "source": [
    "import numpy as np\n",
    "print(np.random.choice(8, 10))"
   ]
  }
 ],
 "metadata": {
  "kernelspec": {
   "display_name": "Python 3",
   "language": "python",
   "name": "python3"
  },
  "language_info": {
   "codemirror_mode": {
    "name": "ipython",
    "version": 3
   },
   "file_extension": ".py",
   "mimetype": "text/x-python",
   "name": "python",
   "nbconvert_exporter": "python",
   "pygments_lexer": "ipython3",
   "version": "3.6.5"
  }
 },
 "nbformat": 4,
 "nbformat_minor": 2
}
